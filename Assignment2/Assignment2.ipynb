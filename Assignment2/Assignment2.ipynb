{
 "metadata": {
  "language_info": {
   "codemirror_mode": {
    "name": "ipython",
    "version": 3
   },
   "file_extension": ".py",
   "mimetype": "text/x-python",
   "name": "python",
   "nbconvert_exporter": "python",
   "pygments_lexer": "ipython3",
   "version": "3.7.4"
  },
  "orig_nbformat": 4,
  "kernelspec": {
   "name": "python3",
   "display_name": "Python 3.7.4 64-bit ('base': conda)"
  },
  "interpreter": {
   "hash": "d4bbe7d57c95a32d1f644ee2367dd137d325d38ab01c1d3e852db70e81865468"
  }
 },
 "nbformat": 4,
 "nbformat_minor": 2,
 "cells": [
  {
   "cell_type": "markdown",
   "source": [
    "## Importing the necessary libraries"
   ],
   "metadata": {}
  },
  {
   "cell_type": "code",
   "execution_count": 25,
   "source": [
    "import cv2\r\n",
    "import numpy as np\r\n",
    "import glob\r\n",
    "import os\r\n",
    "from skimage.util import random_noise\r\n",
    "from sklearn.svm import SVR\r\n",
    "from sklearn.metrics import mean_squared_error\r\n",
    "import matplotlib.pyplot as plt"
   ],
   "outputs": [],
   "metadata": {}
  },
  {
   "cell_type": "markdown",
   "source": [
    "## Obtaining the training data and the IDs of each image"
   ],
   "metadata": {}
  },
  {
   "cell_type": "markdown",
   "source": [
    "\r\n",
    "ids_train = [] #storing the image ids of the training set\r\n",
    "with open(\"C:\\\\Users\\\\Rohit\\\\Desktop\\\\LAB WORK(IMP)\\\\EE610\\\\Assignment\\\\EE610-Image-Processing\\\\Assignment2\\\\BSDS300\\\\iids_test.txt\", \"r\") as a_file:\r\n",
    "  for line in a_file:\r\n",
    "    stripped_line = int(line.strip())#stripping any blank space\r\n",
    "    ids_train.append(stripped_line)#appending the final id to the array\r\n"
   ],
   "metadata": {}
  },
  {
   "cell_type": "code",
   "execution_count": 26,
   "source": [
    "#path = \"C:\\\\Users\\\\Rohit\\\\Desktop\\\\LAB WORK(IMP)\\\\EE610\\\\Assignment\\\\EE610-Image-Processing\\\\Assignment2\\\\BSDS300\\\\images\\\\train\\\\\"\r\n",
    "\r\n",
    "directory = \"C:\\\\Users\\\\Rohit\\\\Desktop\\\\LAB WORK(IMP)\\\\EE610\\\\Assignment\\\\EE610-Image-Processing\\\\Assignment2\\\\BDS500\\\\train\"\r\n",
    "img_train = []\r\n",
    "ids_img_train = []\r\n",
    "for filename in os.listdir(directory):\r\n",
    "    ids_img_train.append(int(filename[:-4]))\r\n",
    "    img_train.append(cv2.imread(directory + filename))"
   ],
   "outputs": [],
   "metadata": {
    "tags": []
   }
  },
  {
   "cell_type": "markdown",
   "source": [
    "## Obtaining the validation data"
   ],
   "metadata": {}
  },
  {
   "cell_type": "code",
   "execution_count": 27,
   "source": [
    "directory = \"C:\\\\Users\\\\Rohit\\\\Desktop\\\\LAB WORK(IMP)\\\\EE610\\\\Assignment\\\\EE610-Image-Processing\\\\Assignment2\\\\BDS500\\\\val\\\\\"\r\n",
    "img_val = []\r\n",
    "ids_img_val = []\r\n",
    "for filename in os.listdir(directory):\r\n",
    "    ids_img_val.append(int(filename[:-4]))\r\n",
    "    img_val.append(cv2.imread(directory + filename))"
   ],
   "outputs": [],
   "metadata": {}
  },
  {
   "cell_type": "markdown",
   "source": [
    "## Obtaining the testing data and the IDs of each image"
   ],
   "metadata": {}
  },
  {
   "cell_type": "code",
   "execution_count": 28,
   "source": [
    "directory = \"C:\\\\Users\\\\Rohit\\\\Desktop\\\\LAB WORK(IMP)\\\\EE610\\\\Assignment\\\\EE610-Image-Processing\\\\Assignment2\\\\BDS500\\\\test\\\\\"\r\n",
    "img_test = []\r\n",
    "ids_img_test = []\r\n",
    "for filename in os.listdir(directory):\r\n",
    "    ids_img_test.append(int(filename[:-4]))\r\n",
    "    img_test.append(cv2.imread(directory + filename))"
   ],
   "outputs": [],
   "metadata": {}
  },
  {
   "cell_type": "markdown",
   "source": [
    "## Choose the value for W"
   ],
   "metadata": {}
  },
  {
   "cell_type": "code",
   "execution_count": 29,
   "source": [
    "W = 27"
   ],
   "outputs": [],
   "metadata": {}
  },
  {
   "cell_type": "markdown",
   "source": [
    "## Defining the function for blurring of an image and other relevant functon definitions"
   ],
   "metadata": {}
  },
  {
   "cell_type": "code",
   "execution_count": 30,
   "source": [
    "def blur(img_array, kernel_size):\r\n",
    "    \"\"\"Appropriate blurring of images with the given kernel \r\n",
    "\r\n",
    "    Args:\r\n",
    "        img_array ([numpy array]): the array of RGB images\r\n",
    "        kernel_size ([tuple]): (W,W), where W is an odd integer\r\n",
    "\r\n",
    "    Returns:\r\n",
    "        [numpy array]: the array of blurred images (RGB)\r\n",
    "    \"\"\"\r\n",
    "    img_blur = []\r\n",
    "    for i in range(0, len(img_array)):\r\n",
    "        img_blur.append(cv2.blur(img_array[i], kernel_size))\r\n",
    "    return img_blur\r\n"
   ],
   "outputs": [],
   "metadata": {}
  },
  {
   "cell_type": "code",
   "execution_count": 31,
   "source": [
    "# https://stackoverflow.com/questions/59735866/how-to-create-noisy-images-for-data-augmentation?noredirect=1&lq=1\r\n",
    "def noise(img_array, mode=\"s&p\", amount=0.011):\r\n",
    "    \"\"\"Adds noise to the images of an image array and returns an image array back.\r\n",
    "\r\n",
    "    Args:\r\n",
    "        img_array ([numpy array]): the array of images (RGB)\r\n",
    "        mode (str, optional): Defines the noise model to be added. Defaults to \"s&p\".\r\n",
    "        amount (float, optional): Defines the amount of salt and pepper noise to be added. Defaults to 0.011.\r\n",
    "\r\n",
    "    Returns:\r\n",
    "        numpy array: contains the images with noise added.\r\n",
    "    \"\"\"\r\n",
    "    img_noise = []\r\n",
    "    for i in range(0, len(img_array)):\r\n",
    "        noise = random_noise(img_array[i], mode=mode, amount=amount)#  returns a floating-point array in the range [0, 1]\r\n",
    "        noise = np.array(255 * noise, dtype=np.uint8)# we change it to range [0,255] by multiplying by 255 and then change the datatype to 'uint8'\r\n",
    "        img_noise.append(noise)\r\n",
    "    return img_noise"
   ],
   "outputs": [],
   "metadata": {}
  },
  {
   "cell_type": "markdown",
   "source": [
    "## Blurring and adding noise to the images"
   ],
   "metadata": {}
  },
  {
   "cell_type": "markdown",
   "source": [
    "### Blurring the images"
   ],
   "metadata": {}
  },
  {
   "cell_type": "markdown",
   "source": [
    "We have to now blur the images several times with different kernel sizes and add noise to the images."
   ],
   "metadata": {}
  },
  {
   "cell_type": "markdown",
   "source": [
    "We first select the kernel size randomly. Since we need an odd kernel size we generate an integer and then apply $f(x) = 2x + 1$."
   ],
   "metadata": {}
  },
  {
   "cell_type": "code",
   "execution_count": 32,
   "source": [
    "blur_freq = 5# defines the number of times we want to degrade our image via blurring\r\n",
    "blur_kernel = np.uint8(2.*np.random.randint(1, 5, blur_freq) + 1) # generating an odd sized kernel randomly\r\n",
    "blur_kernel\r\n",
    "# the above kernel is kept fixed for the rest of the code!!"
   ],
   "outputs": [
    {
     "output_type": "execute_result",
     "data": {
      "text/plain": [
       "array([7, 3, 3, 9, 7], dtype=uint8)"
      ]
     },
     "metadata": {},
     "execution_count": 32
    }
   ],
   "metadata": {}
  },
  {
   "cell_type": "markdown",
   "source": [
    "We then go to blurring our images with the above given kernel sizes."
   ],
   "metadata": {}
  },
  {
   "cell_type": "code",
   "execution_count": 33,
   "source": [
    "img_train_blur, img_val_blur, img_test_blur = img_train, img_val, img_test \r\n",
    "for i in blur_kernel:\r\n",
    "    kernel = (i, i)\r\n",
    "    img_train_blur = blur(img_train_blur, kernel)\r\n",
    "    img_val_blur =blur(img_val_blur, kernel)\r\n",
    "    img_test_blur = blur(img_test_blur, kernel)"
   ],
   "outputs": [
    {
     "output_type": "error",
     "ename": "error",
     "evalue": "OpenCV(4.2.0) C:\\projects\\opencv-python\\opencv\\modules\\core\\src\\matrix.cpp:757: error: (-215:Assertion failed) dims <= 2 && step[0] > 0 in function 'cv::Mat::locateROI'\n",
     "traceback": [
      "\u001b[1;31m---------------------------------------------------------------------------\u001b[0m",
      "\u001b[1;31merror\u001b[0m                                     Traceback (most recent call last)",
      "\u001b[1;32m<ipython-input-33-dad1d98a2a67>\u001b[0m in \u001b[0;36m<module>\u001b[1;34m\u001b[0m\n\u001b[0;32m      2\u001b[0m \u001b[1;32mfor\u001b[0m \u001b[0mi\u001b[0m \u001b[1;32min\u001b[0m \u001b[0mblur_kernel\u001b[0m\u001b[1;33m:\u001b[0m\u001b[1;33m\u001b[0m\u001b[1;33m\u001b[0m\u001b[0m\n\u001b[0;32m      3\u001b[0m     \u001b[0mkernel\u001b[0m \u001b[1;33m=\u001b[0m \u001b[1;33m(\u001b[0m\u001b[0mi\u001b[0m\u001b[1;33m,\u001b[0m \u001b[0mi\u001b[0m\u001b[1;33m)\u001b[0m\u001b[1;33m\u001b[0m\u001b[1;33m\u001b[0m\u001b[0m\n\u001b[1;32m----> 4\u001b[1;33m     \u001b[0mimg_train_blur\u001b[0m \u001b[1;33m=\u001b[0m \u001b[0mblur\u001b[0m\u001b[1;33m(\u001b[0m\u001b[0mimg_train_blur\u001b[0m\u001b[1;33m,\u001b[0m \u001b[0mkernel\u001b[0m\u001b[1;33m)\u001b[0m\u001b[1;33m\u001b[0m\u001b[1;33m\u001b[0m\u001b[0m\n\u001b[0m\u001b[0;32m      5\u001b[0m     \u001b[0mimg_val_blur\u001b[0m \u001b[1;33m=\u001b[0m\u001b[0mblur\u001b[0m\u001b[1;33m(\u001b[0m\u001b[0mimg_val_blur\u001b[0m\u001b[1;33m,\u001b[0m \u001b[0mkernel\u001b[0m\u001b[1;33m)\u001b[0m\u001b[1;33m\u001b[0m\u001b[1;33m\u001b[0m\u001b[0m\n\u001b[0;32m      6\u001b[0m     \u001b[0mimg_test_blur\u001b[0m \u001b[1;33m=\u001b[0m \u001b[0mblur\u001b[0m\u001b[1;33m(\u001b[0m\u001b[0mimg_test_blur\u001b[0m\u001b[1;33m,\u001b[0m \u001b[0mkernel\u001b[0m\u001b[1;33m)\u001b[0m\u001b[1;33m\u001b[0m\u001b[1;33m\u001b[0m\u001b[0m\n",
      "\u001b[1;32m<ipython-input-30-15012ef01f64>\u001b[0m in \u001b[0;36mblur\u001b[1;34m(img_array, kernel_size)\u001b[0m\n\u001b[0;32m     11\u001b[0m     \u001b[0mimg_blur\u001b[0m \u001b[1;33m=\u001b[0m \u001b[1;33m[\u001b[0m\u001b[1;33m]\u001b[0m\u001b[1;33m\u001b[0m\u001b[1;33m\u001b[0m\u001b[0m\n\u001b[0;32m     12\u001b[0m     \u001b[1;32mfor\u001b[0m \u001b[0mi\u001b[0m \u001b[1;32min\u001b[0m \u001b[0mrange\u001b[0m\u001b[1;33m(\u001b[0m\u001b[1;36m0\u001b[0m\u001b[1;33m,\u001b[0m \u001b[0mlen\u001b[0m\u001b[1;33m(\u001b[0m\u001b[0mimg_array\u001b[0m\u001b[1;33m)\u001b[0m\u001b[1;33m)\u001b[0m\u001b[1;33m:\u001b[0m\u001b[1;33m\u001b[0m\u001b[1;33m\u001b[0m\u001b[0m\n\u001b[1;32m---> 13\u001b[1;33m         \u001b[0mimg_blur\u001b[0m\u001b[1;33m.\u001b[0m\u001b[0mappend\u001b[0m\u001b[1;33m(\u001b[0m\u001b[0mcv2\u001b[0m\u001b[1;33m.\u001b[0m\u001b[0mblur\u001b[0m\u001b[1;33m(\u001b[0m\u001b[0mimg_array\u001b[0m\u001b[1;33m[\u001b[0m\u001b[0mi\u001b[0m\u001b[1;33m]\u001b[0m\u001b[1;33m,\u001b[0m \u001b[0mkernel_size\u001b[0m\u001b[1;33m)\u001b[0m\u001b[1;33m)\u001b[0m\u001b[1;33m\u001b[0m\u001b[1;33m\u001b[0m\u001b[0m\n\u001b[0m\u001b[0;32m     14\u001b[0m     \u001b[1;32mreturn\u001b[0m \u001b[0mimg_blur\u001b[0m\u001b[1;33m\u001b[0m\u001b[1;33m\u001b[0m\u001b[0m\n",
      "\u001b[1;31merror\u001b[0m: OpenCV(4.2.0) C:\\projects\\opencv-python\\opencv\\modules\\core\\src\\matrix.cpp:757: error: (-215:Assertion failed) dims <= 2 && step[0] > 0 in function 'cv::Mat::locateROI'\n"
     ]
    }
   ],
   "metadata": {}
  },
  {
   "cell_type": "markdown",
   "source": [
    "### Adding noise to the images"
   ],
   "metadata": {}
  },
  {
   "cell_type": "markdown",
   "source": [
    "We now are going to add salt and pepper noise to our images of different amounts. We again do this randomly, however fix it for the rest of the code!!\r\n",
    "\r\n",
    "We begin by creating an array of the amounts of salt pepper noise we are going to add in our images."
   ],
   "metadata": {}
  },
  {
   "cell_type": "code",
   "execution_count": null,
   "source": [
    "sp_freq = 5\r\n",
    "sp_amt = 0.1*np.random.rand(sp_freq)\r\n",
    "sp_amt"
   ],
   "outputs": [
    {
     "output_type": "execute_result",
     "data": {
      "text/plain": [
       "array([0.0304878 , 0.06674366, 0.02875693, 0.02389772, 0.08381278])"
      ]
     },
     "metadata": {},
     "execution_count": 13
    }
   ],
   "metadata": {}
  },
  {
   "cell_type": "markdown",
   "source": [
    "We proceed to add noise to our images"
   ],
   "metadata": {}
  },
  {
   "cell_type": "code",
   "execution_count": null,
   "source": [
    "img_train_noise, img_val_noise, img_test_noise = img_train_blur, img_val_blur, img_test_blur \r\n",
    "for i in sp_amt:\r\n",
    "    img_train_noise = noise(img_train_noise, amount=i)\r\n",
    "    img_val_noise = noise(img_val_noise, amount = i)\r\n",
    "    img_test_noise = noise(img_test_noise, amount=i)"
   ],
   "outputs": [],
   "metadata": {}
  },
  {
   "cell_type": "markdown",
   "source": [
    "## Displaying a few images to demonstrate the degradation"
   ],
   "metadata": {}
  },
  {
   "cell_type": "code",
   "execution_count": null,
   "source": [
    "#cv2.imshow(\"First image\", img_train_noise[1])\r\n",
    "#cv2.imshow(\"Second image\", img_test_noise[6])\r\n",
    "#cv2.waitKey(-1)"
   ],
   "outputs": [],
   "metadata": {}
  },
  {
   "cell_type": "markdown",
   "source": [
    "## Mining the images for w $\\times$ w patches"
   ],
   "metadata": {}
  },
  {
   "cell_type": "code",
   "execution_count": null,
   "source": [
    "#taken from sirs code(shared by sir on teams!)\r\n",
    "def extract(img, W, w, numPatches):\r\n",
    "    \"\"\"Extracts the wxw patches from an image and the central pixel of each patch\r\n",
    "\r\n",
    "    Args:\r\n",
    "        img (numpy array): an array of np.uint8 values (RGB)\r\n",
    "        W (integer): Patch max window size\r\n",
    "        w (integer): sub-patch size\r\n",
    "        numPatches (integer): Number of patches to be extracted from this image\r\n",
    "        central_pixel (array): array of central pixels of each of the patch mined\r\n",
    "    Returns:\r\n",
    "        array: returns a numPatchxWxWx3 array and the array of central pixels\r\n",
    "    \"\"\"\r\n",
    "\r\n",
    "    patches = np.empty((numPatches,W,W,3), dtype=float) # Initilizing patch n-d array\r\n",
    "    central_pixel = np.empty((numPatches, 3), dtype = float)\r\n",
    "    for i in range(numPatches): # For number of patches\r\n",
    "        x = np.random.randint(0, img.shape[0]-W+1) # Random x location so that the patch \r\n",
    "                                                # remains within image boundaries\r\n",
    "        y = np.random.randint(0, img.shape[1]-W+1) # Random y location\r\n",
    "                                                # remains within image boundaries\r\n",
    "        patches[i,:,:,:] = img[x:x+W,y:y+W,:]/255.0 # Extract patch\r\n",
    "        central_pixel[i] = img[x+W//2, y+W//2, :]#extract central pixel\r\n",
    "    return patches, central_pixel                                       # Divide by 255 for float images"
   ],
   "outputs": [],
   "metadata": {}
  },
  {
   "cell_type": "markdown",
   "source": [
    "### Displaying a patch of an image"
   ],
   "metadata": {}
  },
  {
   "cell_type": "code",
   "execution_count": null,
   "source": [
    "p, c = extract(img_train_noise[1], 63, 43, 5)\r\n",
    "p[2].flatten().shape"
   ],
   "outputs": [
    {
     "output_type": "execute_result",
     "data": {
      "text/plain": [
       "(11907,)"
      ]
     },
     "metadata": {},
     "execution_count": 17
    }
   ],
   "metadata": {}
  },
  {
   "cell_type": "markdown",
   "source": [
    "## Creating the final dataset of patches"
   ],
   "metadata": {}
  },
  {
   "cell_type": "code",
   "execution_count": null,
   "source": [
    "def prepare(img_array, W, w, numPatches):\r\n",
    "    X_in = np.empty((numPatches*len(img_array), 3*W*W), dtype=float)\r\n",
    "    X_out = np.empty((numPatches*len(img_array), 3), dtype = float)\r\n",
    "    for i in range(0, len(img_array)):\r\n",
    "        patch, central = extract(img_array[i], W, w, numPatches)\r\n",
    "        for j in range(0, numPatches):\r\n",
    "            X_in[numPatches*i + j] =  patch[j].flatten()\r\n",
    "            X_out[numPatches*i + j] = central[j]\r\n",
    "    return X_in, X_out"
   ],
   "outputs": [],
   "metadata": {}
  },
  {
   "cell_type": "code",
   "execution_count": null,
   "source": [
    "W = 63\r\n",
    "w = 43\r\n",
    "numPatches = 20\r\n",
    "train_in, train_out = prepare(img_train_noise, W, w, numPatches)\r\n",
    "\r\n",
    "test_in, test_out = prepare(img_test_noise, W, w, numPatches)"
   ],
   "outputs": [],
   "metadata": {}
  },
  {
   "cell_type": "code",
   "execution_count": null,
   "source": [
    "pred = np.empty_like(test_out)\r\n",
    "pred_train = np.empty_like(train_out)\r\n",
    "for i in range(0, 3):\r\n",
    "    regressor = SVR(kernel='rbf', gamma = \"scale\")\r\n",
    "    regressor.fit(train_in[:,i*W:(i+1)*W],train_out[:, i])\r\n",
    "    pred_train[:, i] = regressor.predict(train_in[:, i*W:(i+1)*W])\r\n",
    "    pred[:, i] = regressor.predict(test_in[:, i*W:(i+1)*W])"
   ],
   "outputs": [],
   "metadata": {}
  },
  {
   "cell_type": "code",
   "execution_count": null,
   "source": [
    "mean_squared_error(pred_train, train_out)/(3*len(pred_train))"
   ],
   "outputs": [
    {
     "output_type": "execute_result",
     "data": {
      "text/plain": [
       "0.8780557898443438"
      ]
     },
     "metadata": {},
     "execution_count": 21
    }
   ],
   "metadata": {}
  },
  {
   "cell_type": "code",
   "execution_count": null,
   "source": [
    "mean_squared_error(pred, test_out)/(3*len(pred))"
   ],
   "outputs": [
    {
     "output_type": "execute_result",
     "data": {
      "text/plain": [
       "0.4447474645356235"
      ]
     },
     "metadata": {},
     "execution_count": 22
    }
   ],
   "metadata": {}
  },
  {
   "cell_type": "code",
   "execution_count": null,
   "source": [
    "W= 101\r\n",
    "error = []\r\n",
    "regressor_arr = []\r\n",
    "for numPatches in range(5, 15):\r\n",
    "    train_in, train_out = prepare(img_train_noise, W, w, numPatches)\r\n",
    "    val_in, val_out = prepare(img_val_noise, W, w, numPatches)\r\n",
    "    #test_in, test_out = prepare(img_test_noise, W, w, numPatches)\r\n",
    "    pred = np.empty_like(val_out)\r\n",
    "    #pred_train = np.empty_like(train_out)\r\n",
    "    for i in range(0, 3):\r\n",
    "        regressor = SVR(kernel='rbf', gamma = \"scale\")\r\n",
    "        regressor.fit(train_in[:,i*W:(i+1)*W],train_out[:, i])\r\n",
    "        regressor_arr.append(regressor)\r\n",
    "        #pred[:, i] = regressor.predict(val_in[:, i*W:(i+1)*W])\r\n",
    "        pred[:, i] = regressor.predict(val_in[:, i*W:(i+1)*W])\r\n",
    "    error.append((mean_squared_error(pred, val_out)/(3*len(pred)))**(1/2))\r\n",
    "        "
   ],
   "outputs": [],
   "metadata": {}
  },
  {
   "cell_type": "code",
   "execution_count": null,
   "source": [
    "plt.plot(range(5, 15), error)"
   ],
   "outputs": [
    {
     "output_type": "execute_result",
     "data": {
      "text/plain": [
       "[<matplotlib.lines.Line2D at 0x1ca67ee7c48>]"
      ]
     },
     "metadata": {},
     "execution_count": 24
    },
    {
     "output_type": "display_data",
     "data": {
      "image/png": "[encoded data removed]",
      "text/plain": [
       "<Figure size 432x288 with 1 Axes>"
      ]
     },
     "metadata": {
      "needs_background": "light"
     }
    }
   ],
   "metadata": {}
  },
  {
   "cell_type": "code",
   "execution_count": null,
   "source": [],
   "outputs": [],
   "metadata": {}
  },
  {
   "cell_type": "code",
   "execution_count": null,
   "source": [],
   "outputs": [],
   "metadata": {}
  },
  {
   "cell_type": "code",
   "execution_count": null,
   "source": [],
   "outputs": [],
   "metadata": {}
  },
  {
   "cell_type": "code",
   "execution_count": null,
   "source": [],
   "outputs": [],
   "metadata": {}
  }
 ]
}