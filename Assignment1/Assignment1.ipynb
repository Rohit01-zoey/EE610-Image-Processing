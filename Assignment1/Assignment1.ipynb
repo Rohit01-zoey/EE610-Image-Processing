{
 "metadata": {
  "language_info": {
   "codemirror_mode": {
    "name": "ipython",
    "version": 3
   },
   "file_extension": ".py",
   "mimetype": "text/x-python",
   "name": "python",
   "nbconvert_exporter": "python",
   "pygments_lexer": "ipython3",
   "version": "3.7.4"
  },
  "orig_nbformat": 4,
  "kernelspec": {
   "name": "python3",
   "display_name": "Python 3.7.4 64-bit ('base': conda)"
  },
  "interpreter": {
   "hash": "d4bbe7d57c95a32d1f644ee2367dd137d325d38ab01c1d3e852db70e81865468"
  }
 },
 "nbformat": 4,
 "nbformat_minor": 2,
 "cells": [
  {
   "source": [
    "# Importing the files required"
   ],
   "cell_type": "markdown",
   "metadata": {}
  },
  {
   "cell_type": "code",
   "execution_count": 1,
   "metadata": {},
   "outputs": [],
   "source": [
    "import cv2\n",
    "import numpy as np"
   ]
  },
  {
   "cell_type": "code",
   "execution_count": 2,
   "metadata": {},
   "outputs": [],
   "source": [
    "from tkinter import *\n",
    "from tkinter import filedialog\n",
    "from tkinter.filedialog import askopenfilename\n",
    "from tkinter.simpledialog import askfloat, askinteger\n",
    "from PIL import Image\n",
    "from PIL import ImageTk\n",
    "from functools import partial"
   ]
  },
  {
   "source": [
    "# Defining the global variables "
   ],
   "cell_type": "markdown",
   "metadata": {}
  },
  {
   "cell_type": "code",
   "execution_count": 3,
   "metadata": {},
   "outputs": [],
   "source": [
    "global arr_of_imgs\n",
    "global arr_new\n",
    "arr_of_imgs = []"
   ]
  },
  {
   "source": [
    "## Convolve and Pad with function definitions"
   ],
   "cell_type": "markdown",
   "metadata": {}
  },
  {
   "cell_type": "code",
   "execution_count": 4,
   "metadata": {},
   "outputs": [],
   "source": [
    "def convolve(arr1, arr2):\n",
    "    '''Performs the convolution between the two arrays\n",
    "    arr1 :: any numpy array\n",
    "    arr2 :: any numpy array\n",
    "    The sizes of the two arrays must be equal.\n",
    "    '''\n",
    "    assert arr1.shape[0]==arr2.shape[0]\n",
    "    assert arr1.shape[1]==arr2.shape[1] #we must make sure that the shape of the mask and the slice of the image match in size.\n",
    "    #avg = 0\n",
    "    #for i in range(0, arr1.shape[0]):\n",
    "     #   for j in range(0, arr1.shape[1]):\n",
    "      #      avg += (arr1[i, j] * arr2[i, j])\n",
    "      # my first code which worked very slow till I discovered that i could flatten the arrays as discussed in class\n",
    "    return (arr1.flatten()*arr2.flatten()).sum()"
   ]
  },
  {
   "cell_type": "code",
   "execution_count": 5,
   "metadata": {},
   "outputs": [],
   "source": [
    "#taken from the official documentation of numpy\n",
    "#https://numpy.org/doc/stable/reference/generated/numpy.pad.html\n",
    "def pad_with(vector, pad_width, iaxis, kwargs):\n",
    "    pad_value = kwargs.get('padder', 10)\n",
    "    vector[:pad_width[0]] = pad_value\n",
    "    vector[-pad_width[1]:] = pad_value\n",
    "    "
   ]
  },
  {
   "cell_type": "code",
   "execution_count": 6,
   "metadata": {},
   "outputs": [],
   "source": [
    "def select():\n",
    "    global display#for displaying the original image\n",
    "    global img#image array\n",
    "    global image \n",
    "    path = filedialog.askopenfilename()#asks for path to the image\n",
    "    if len(path)>0:#if oppath is given then do the following\n",
    "        img_disp = cv2.imread(path)#read the image as an image array with 3 channels\n",
    "        img = cv2.cvtColor(img_disp, cv2.COLOR_BGR2RGB)#we conver from RGB to BGR since ImageTk outputs it in BGR format\n",
    "        image = Image.fromarray(img)#form an object of type Image from the image array img(with channels changed)\n",
    "        image = ImageTk.PhotoImage(image)#convert to photoimage type for displaying\n",
    "        if display is None:#if panel has not been assigned anty variable yet then\n",
    "            display = Label(image = image)\n",
    "            display.image = image\n",
    "            display.pack(side = \"left\", padx = 10, pady = 10)#ddisplaying the image\n",
    "        else:\n",
    "            display.configure(image = image)\n",
    "            display.image = image #diplaying the image\n",
    "        arr_of_imgs.append(img)#appenign the img to the  image array."
   ]
  },
  {
   "cell_type": "code",
   "execution_count": 7,
   "metadata": {},
   "outputs": [],
   "source": [
    "def save():\n",
    "    #files = [(\"PNG\", \"*.png\"), (\"JPEG\", \"*.jpg\")]\n",
    "\n",
    "    #filename = filedialog.asksaveasfile(mode='w', defaultextension=files)\n",
    "    image.save(\"C:\\\\Users\\\\Rohit\\\\Downloads\\\\save.jpg\")"
   ]
  },
  {
   "cell_type": "code",
   "execution_count": 8,
   "metadata": {},
   "outputs": [],
   "source": [
    "def Log():\n",
    "    arr, arr_new = img, img\n",
    "    for c in range(0, 3):\n",
    "        scaling =  255 / np.log(1 + np.max(arr[:, :, c]))#we define the scaling factor so that the final values stay in the acceptable range of [0, 255]\n",
    "        arr_new[:, :, c] = (scaling * np.log(1 + arr[:, :, c])).astype(np.uint8)#saving the final values in the new image array and converting it to type  uint8\n",
    "    image = Image.fromarray(arr_new)\n",
    "    image = ImageTk.PhotoImage(image)\n",
    "    panel_new = Label(image = image)\n",
    "    panel_new.image = image\n",
    "    panel_new.pack(side = \"right\", padx = 10, pady = 10)\n",
    "    arr_of_imgs.append(arr_new)"
   ]
  },
  {
   "cell_type": "code",
   "execution_count": 9,
   "metadata": {},
   "outputs": [],
   "source": [
    "def negative():\n",
    "    arr, arr_new = img, img\n",
    "    for c in range(0, 3):\n",
    "        arr_new[:, :, c] = (255  -  arr[:, :, c]).astype(np.uint8)#saving the final values in the new image array and converting it to type  uint8\n",
    "    image = Image.fromarray(arr_new)\n",
    "    image = ImageTk.PhotoImage(image)\n",
    "    panel_new = Label(image = image)\n",
    "    panel_new.image = image\n",
    "    panel_new.pack(side = \"right\", padx = 10, pady = 10)\n",
    "    arr_of_imgs.append(arr_new)"
   ]
  },
  {
   "cell_type": "code",
   "execution_count": 10,
   "metadata": {},
   "outputs": [],
   "source": [
    "def Power():\n",
    "    c = askfloat(\"Please enter the value of scale\", \"c = \")\n",
    "    g = askfloat(\"Please enter the value of gamma\", \"gamma = \")\n",
    "    arr, arr_new = img, img\n",
    "    for d in range(0, 3):\n",
    "        scaling = 255/(c*np.max(arr[:, :, d])**g)#we define the scaling factor so that the final values stay in the acceptable range of [0, 255]\n",
    "        arr_new = (scaling * c * (arr[: , :, d]**g)).astype(np.uint8)# performing the operation on the image array\n",
    "    image = Image.fromarray(arr_new)\n",
    "    image = ImageTk.PhotoImage(image)\n",
    "    panel_new = Label(image = image)\n",
    "    panel_new.image = image\n",
    "    panel_new.pack(side = \"right\", padx = 10, pady = 10)\n",
    "    arr_of_imgs.append(arr_new)  "
   ]
  },
  {
   "cell_type": "code",
   "execution_count": 11,
   "metadata": {},
   "outputs": [],
   "source": [
    "def Blur():\n",
    "    kernel_size = askinteger(\"Please enter the value of kernel_size\", \"kernel_size = \")\n",
    "    r = kernel_size//2 #integer ddivsionto get the width of the padding\n",
    "    arr, arr_new = img, img\n",
    "    mask = np.ones((kernel_size, kernel_size))/sum(sum(np.ones((kernel_size, kernel_size))))#defining the kernel and is normalised so that final values don't exceed 255\n",
    "    #mask = np.array([[0, -1, 0], [-1, 5, -1], [0, -1, 0]])\n",
    "    for c in range(0, 3):\n",
    "        #we now perform the convolution for the image\n",
    "        #we first pad the image array with zeros of length/width r and then move the mask across the image\n",
    "        #we use the previously defined convolve function to find the convoltion between the slice of the image array and the mask.\n",
    "        pad_arr = np.pad(arr[:, :, c], r, pad_with, padder =0)#stores the podded array\n",
    "        for i in range(0, pad_arr.shape[0] - kernel_size+1):\n",
    "            for j in range(0, pad_arr.shape[1] - kernel_size+1):\n",
    "                arr2conv = pad_arr[i:i+kernel_size, j:j+kernel_size]#choosing the slice of the image array\n",
    "                arr_new[i, j, c] = convolve(arr2conv, mask)#calling the convolve function to convolve the 2\n",
    "    image = Image.fromarray(arr_new.astype(np.uint8))\n",
    "    image = ImageTk.PhotoImage(image)\n",
    "    panel_new = Label(image = image)\n",
    "    panel_new.image = image\n",
    "    panel_new.pack(side = \"right\", padx = 10, pady = 10)\n",
    "    arr_of_imgs.append(arr_new)"
   ]
  },
  {
   "cell_type": "code",
   "execution_count": 12,
   "metadata": {},
   "outputs": [],
   "source": [
    "def sharpen():\n",
    "    kernel_size = askinteger(\"Please enter the value of kernel_size\", \"kernel_size = \")\n",
    "    r = kernel_size//2 #integer ddivsionto get the width of the padding\n",
    "    arr, arr_new = img, img\n",
    "    mask = -np.ones((kernel_size, kernel_size))\n",
    "    mask[r, r] = kernel_size**2 - 1#normal laplacian has the centre element such that the net sum is 0.\n",
    "    #mask = np.array([[0, -1, 0], [-1, 5, -1], [0, -1, 0]])\n",
    "    for c in range(0, 3):\n",
    "        #we now perform the convolution for the image\n",
    "        #we first pad the image array with zeros of length/width r and then move the mask across the image\n",
    "        #we use the previously defined convolve function to find the convoltion between the slice of the image array and the mask.\n",
    "        pad_arr = np.pad(arr[:, :, c], r, pad_with, padder =0)\n",
    "        for i in range(0, pad_arr.shape[0] - kernel_size+1):\n",
    "            for j in range(0, pad_arr.shape[1] - kernel_size+1):\n",
    "                arr2conv = pad_arr[i:i+kernel_size, j:j+kernel_size]#choosing the slice of the image array\n",
    "                arr_new[i, j, c] = convolve(arr2conv, mask)#calling the convolve function to convolve the 2\n",
    "        #arr_new[:, :, c] = arr_new[: ,:, c] - np.min(arr_new[:, :, c])\n",
    "        #arr_new[:, :, c] = arr_new[:, :, c]*(255/np.max(arr_new[:, :, c]))\n",
    "    image = Image.fromarray(arr_new.astype(np.uint8))\n",
    "    image = ImageTk.PhotoImage(image)\n",
    "    panel_new = Label(image = image)\n",
    "    panel_new.image = image\n",
    "    panel_new.pack(side = \"right\", padx = 10, pady = 10)\n",
    "    arr_of_imgs.append(arr_new)"
   ]
  },
  {
   "cell_type": "code",
   "execution_count": 13,
   "metadata": {},
   "outputs": [],
   "source": [
    "def Eq():\n",
    "    arr_og, arr_new = img, img\n",
    "    for c in range(0, 3):\n",
    "        #took help from this site https://towardsdatascience.com/histogram-equalization-a-simple-way-to-improve-the-contrast-of-your-image-bcd66596d815\n",
    "        arr = arr_og[:, :, c]\n",
    "        hist, _ = np.histogram(arr.flatten(), 256, [0, 256]) #defining the histogram for the given array\n",
    "        cdf = np.cumsum(hist)#defining the cummulative function or the cdf of the pixels\n",
    "        arr_new_2d = (cdf - cdf.min())*255/(cdf.max()-cdf.min()) #finding the difference and normalising it so the maximum value is till only 255\n",
    "        arr_new[:, : , c] = arr_new_2d[arr]#fetching the final image array after equilisation\n",
    "    arr_of_imgs.append(arr_new)\n",
    "    image = Image.fromarray(arr_new.astype(np.uint8))\n",
    "    image = ImageTk.PhotoImage(image)\n",
    "    panel_new = Label(image = image)\n",
    "    panel_new.image = image\n",
    "    panel_new.pack(side = \"right\", padx = 10, pady = 10)\n"
   ]
  },
  {
   "cell_type": "code",
   "execution_count": 14,
   "metadata": {},
   "outputs": [],
   "source": [
    "def undo_all():\n",
    "    arr_new = img\n",
    "    \n",
    "    image = Image.fromarray(arr_new)\n",
    "    image = ImageTk.PhotoImage(image)\n",
    "    panel_new = Label(image = image)\n",
    "    panel_new.image = image\n",
    "    panel_new.pack(side = \"right\", padx = 10, pady = 10)"
   ]
  },
  {
   "cell_type": "code",
   "execution_count": 18,
   "metadata": {},
   "outputs": [],
   "source": [
    "root = Tk()\n",
    "display = None#initialise the varible to none\n",
    "#below we define all the buttons required for the gui\n",
    "#btn = Button(root, text  =\"Save my image!!!!!(Gives error :( )\", command = save)\n",
    "#btn.pack(side = \"bottom\", fill = \"both\", expand=\"yes\", padx = 35, pady = 16)\n",
    "btn = Button(root, text  =\"Log transform\", command = Log)\n",
    "btn.pack(side = \"bottom\", fill = \"both\", expand=\"yes\", padx = 11, pady = 11)\n",
    "btn = Button(root, text  =\"Power transform\", command = Power)\n",
    "btn.pack(side = \"bottom\", fill = \"both\", expand=\"yes\", padx = 11, pady = 12)\n",
    "btn = Button(root, text  =\"Blur\", command = Blur)\n",
    "btn.pack(side = \"bottom\", fill = \"both\", expand=\"yes\", padx = 30, pady = 13)\n",
    "btn = Button(root, text  =\"Equilize\", command = Eq)\n",
    "btn.pack(side = \"bottom\", fill = \"both\", expand=\"yes\", padx = 30, pady = 14)\n",
    "btn = Button(root, text  =\"Sharpen\", command = sharpen)\n",
    "btn.pack(side = \"bottom\", fill = \"both\", expand=\"yes\", padx = 35, pady = 15)\n",
    "btn = Button(root, text  =\"Negative of my image\", command = negative)\n",
    "btn.pack(side = \"bottom\", fill = \"both\", expand=\"yes\", padx = 35, pady = 10)\n",
    "btn = Button(root, text  =\"Select image:: Please select an image first!!\", command = select)\n",
    "btn.pack(side = \"bottom\", fill = \"both\", expand=\"yes\", padx = 10, pady = 17)\n",
    "root.mainloop()\n",
    "arr_of_imgs = []"
   ]
  },
  {
   "source": [
    "# Generating the requirements files"
   ],
   "cell_type": "markdown",
   "metadata": {}
  },
  {
   "cell_type": "code",
   "execution_count": 16,
   "metadata": {},
   "outputs": [],
   "source": [
    "import session_info"
   ]
  },
  {
   "cell_type": "code",
   "execution_count": 17,
   "metadata": {},
   "outputs": [
    {
     "output_type": "execute_result",
     "data": {
      "text/plain": [
       "<IPython.core.display.HTML object>"
      ],
      "text/html": "<details>\n<summary>Click to view session information</summary>\n<pre>\n-----\nPIL                 6.2.0\ncv2                 4.2.0\nnumpy               1.16.5\nsession_info        1.0.0\n-----\n</pre>\n<details>\n<summary>Click to view modules imported as dependencies</summary>\n<pre>\nbackcall            0.1.0\ncffi                1.12.3\ncolorama            0.4.1\ncython_runtime      NA\ndateutil            2.8.0\ndecorator           4.4.0\ngoogle              NA\nipykernel           5.1.2\nipython_genutils    0.2.0\nipywidgets          7.5.1\njedi                0.15.1\nmkl_fft             1.0.14\nmpl_toolkits        NA\nmtrand              NA\nnt                  NA\nntsecuritycon       NA\nparso               0.5.1\npickleshare         0.7.5\nprompt_toolkit      2.0.10\npygments            2.4.2\nsix                 1.12.0\nsphinxcontrib       NA\nstoremagic          NA\ntornado             6.0.3\ntraitlets           4.3.3\nwcwidth             NA\nwin32api            NA\nwin32security       NA\nzmq                 18.1.0\n</pre>\n</details> <!-- seems like this ends pre, so might as well be explicit -->\n<pre>\n-----\nIPython             7.8.0\njupyter_client      5.3.3\njupyter_core        4.5.0\njupyterlab          1.1.4\nnotebook            6.0.1\n-----\nPython 3.7.4 (default, Aug  9 2019, 18:34:13) [MSC v.1915 64 bit (AMD64)]\nWindows-10-10.0.19041-SP0\n-----\nSession information updated at 2021-08-29 16:16\n</pre>\n</details>"
     },
     "metadata": {},
     "execution_count": 17
    }
   ],
   "source": [
    "session_info.show()"
   ]
  },
  {
   "source": [
    "------------------------------------------------------------------------------------------------------------------------"
   ],
   "cell_type": "markdown",
   "metadata": {}
  },
  {
   "cell_type": "code",
   "execution_count": null,
   "metadata": {},
   "outputs": [],
   "source": []
  }
 ]
}